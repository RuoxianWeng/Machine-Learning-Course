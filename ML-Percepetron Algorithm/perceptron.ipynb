{
 "cells": [
  {
   "attachments": {},
   "cell_type": "markdown",
   "metadata": {},
   "source": [
    "Below is the perceptron algorithm using standard subgradient descent with the step size of 1"
   ]
  },
  {
   "cell_type": "code",
   "execution_count": null,
   "metadata": {},
   "outputs": [],
   "source": [
    "#install numpy library\n",
    "pip install numpy "
   ]
  },
  {
   "cell_type": "code",
   "execution_count": 11,
   "metadata": {},
   "outputs": [
    {
     "name": "stdout",
     "output_type": "stream",
     "text": [
      "Iteration 0 : w = [-235.78205425   30.65585373 -103.40801923  -28.63225313] , b = -548\n",
      "Iteration 1 : w = [-345.74559137   38.2341255  -161.85289179  -38.96749417] , b = -322\n",
      "Iteration 2 : w = [-440.38207866   40.1862109  -210.50276511  -46.30368614] , b = -115\n",
      "Total Iterations: 32\n",
      "Final w = [-429.10854984   58.58415085 -208.97294734   -4.11165447]\n",
      "Final b = -155\n"
     ]
    }
   ],
   "source": [
    "import numpy as np\n",
    "\n",
    "file = open(\"perceptron.data\", 'r', encoding='utf-8-sig')\n",
    "\n",
    "#read data from file and store to X and Y\n",
    "dataset = []\n",
    "for line in file:\n",
    "    data = line.split(',')\n",
    "    x_data = [float(x) for x in data[:4]] \n",
    "    y_data = int(data[4]) \n",
    "    dataset.append((x_data, y_data)) \n",
    "\n",
    "X = np.array([x for x, y in dataset])\n",
    "Y = np.array([y for x, y in dataset])\n",
    "\n",
    "w = np.zeros(X.shape[1]) \n",
    "b = 0 \n",
    "\n",
    "num_iterations = 0\n",
    "is_Perfect = False\n",
    "\n",
    "#continue if there is at least one misclassification for the data provided\n",
    "while is_Perfect == False: \n",
    "    is_Perfect = True\n",
    "    gradient_w = np.zeros(X.shape[1])\n",
    "    gradient_b = 0\n",
    "\n",
    "    #iterate through all datasets\n",
    "    for x, y in zip(X, Y):\n",
    "        result = y * (np.dot(w,x) + b)\n",
    "\n",
    "        #misclassification\n",
    "        if (result <= 0):\n",
    "            #update gradient sum\n",
    "            gradient_w += y * x\n",
    "            gradient_b += y\n",
    "            is_Perfect = False\n",
    "\n",
    "    #update w and b\n",
    "    w += gradient_w\n",
    "    b += gradient_b \n",
    "\n",
    "    if num_iterations < 3: \n",
    "        print(\"Iteration\", num_iterations, \": w =\", w, \", b =\", b)\n",
    "    num_iterations += 1\n",
    "\n",
    "print(\"Total Iterations:\", num_iterations)\n",
    "print(\"Final w =\", w)\n",
    "print(\"Final b =\", b)"
   ]
  },
  {
   "attachments": {},
   "cell_type": "markdown",
   "metadata": {},
   "source": [
    "Below is the perceptron algorithm using Stochastic subgradient descent with the step size of 1"
   ]
  },
  {
   "cell_type": "code",
   "execution_count": 12,
   "metadata": {},
   "outputs": [
    {
     "name": "stdout",
     "output_type": "stream",
     "text": [
      "Iteration 0 : w = [ 0.29265951  0.51606929 -0.02156455 -0.14430998] , b = -1\n",
      "Iteration 1 : w = [ 0.29265951  0.51606929 -0.02156455 -0.14430998] , b = -1\n",
      "Iteration 2 : w = [-0.1257165   0.5883815  -0.26937881  0.55267775] , b = 0\n",
      "Total Iterations: 10680\n",
      "Final w = [-1.37673713e+01  1.98056397e+00 -6.79223890e+00 -7.84444800e-03]\n",
      "Final b = -5\n"
     ]
    }
   ],
   "source": [
    "import numpy as np\n",
    "\n",
    "file = open(\"perceptron.data\", 'r', encoding='utf-8-sig')\n",
    "\n",
    "#read data from file and store to X and Y\n",
    "dataset = []\n",
    "for line in file:\n",
    "    data = line.split(',') \n",
    "    x_data = [float(x) for x in data[:4]]\n",
    "    y_data = int(data[4]) \n",
    "    dataset.append((x_data, y_data)) \n",
    "\n",
    "X = np.array([x for x, y in dataset])\n",
    "Y = np.array([y for x, y in dataset])\n",
    "\n",
    "w = np.zeros(X.shape[1])\n",
    "b = 0 \n",
    "\n",
    "num_iterations = 0\n",
    "is_Perfect = False\n",
    "i = 0\n",
    "\n",
    "#continue if there is at least one misclassification for the data provided\n",
    "while is_Perfect == False: \n",
    "    is_Perfect = True\n",
    "    \n",
    "    result = Y[i] * (np.dot(w,X[i]) + b)\n",
    "\n",
    "    #misclassification\n",
    "    if (result <= 0):\n",
    "        w += Y[i] * X[i]  \n",
    "        b += Y[i]\n",
    "\n",
    "    if num_iterations < 3: \n",
    "        print(\"Iteration\", num_iterations, \": w =\", w, \", b =\", b) \n",
    "    num_iterations += 1\n",
    "    i = (i+1) % 1000\n",
    "\n",
    "    #iterate through all datasets to check if all datasets are correctly classified\n",
    "    for x, y in zip(X, Y):\n",
    "        result = y * (np.dot(w,x) + b)\n",
    "\n",
    "        if (result <= 0): #if not, repeat the algorithm\n",
    "            is_Perfect = False \n",
    "            break\n",
    "\n",
    "print(\"Total Iterations:\", num_iterations)\n",
    "print(\"Final w =\", w)\n",
    "print(\"Final b =\", b)"
   ]
  }
 ],
 "metadata": {
  "kernelspec": {
   "display_name": "Python 3",
   "language": "python",
   "name": "python3"
  },
  "language_info": {
   "codemirror_mode": {
    "name": "ipython",
    "version": 3
   },
   "file_extension": ".py",
   "mimetype": "text/x-python",
   "name": "python",
   "nbconvert_exporter": "python",
   "pygments_lexer": "ipython3",
   "version": "3.11.4"
  },
  "orig_nbformat": 4
 },
 "nbformat": 4,
 "nbformat_minor": 2
}
