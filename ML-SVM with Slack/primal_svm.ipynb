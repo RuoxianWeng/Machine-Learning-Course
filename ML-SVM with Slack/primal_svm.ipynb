{
 "cells": [
  {
   "cell_type": "markdown",
   "metadata": {},
   "source": [
    "Below is the training of classifier for each choice of c value using the primal SVM with slack formation \n",
    "\n",
    "optimization problem: min (w, b, slack) 1/2||w||^2 + c sum(slack)\n",
    "                      such that: \n",
    "                        - y_i(wx_i+b) >= 1 - slack_i, for all i\n",
    "                        - slack_i >= 0, for all i"
   ]
  },
  {
   "cell_type": "markdown",
   "metadata": {},
   "source": [
    "File Paths: \n",
    "- training data: spam_data/spam_train.data\n",
    "- validation data: spam_data/spam_validation.data\n",
    "- test data: spam_data/spam_test.data"
   ]
  },
  {
   "cell_type": "code",
   "execution_count": 1,
   "metadata": {},
   "outputs": [
    {
     "name": "stdout",
     "output_type": "stream",
     "text": [
      "c: 0.001\n",
      "accuracy: 86.89138576779027 %\n",
      "c: 0.01\n",
      "accuracy: 85.89263420724095 %\n",
      "c: 0.1\n",
      "accuracy: 84.76903870162296 %\n",
      "c: 1\n",
      "accuracy: 84.14481897627965 %\n",
      "c: 10\n",
      "accuracy: 85.0187265917603 %\n",
      "c: 100\n",
      "accuracy: 84.14481897627965 %\n",
      "c: 1000\n",
      "accuracy: 84.76903870162296 %\n"
     ]
    }
   ],
   "source": [
    "import numpy as np\n",
    "import cvxopt\n",
    "import cvxopt.solvers\n",
    "\n",
    "#read file and store data to X and Y \n",
    "def read_data(filename): \n",
    "    file = open(filename, 'r', encoding='utf-8-sig')\n",
    "    dataset = []\n",
    "    for line in file:\n",
    "        data = line.split(',')\n",
    "        x_data = [float(x) for x in data[:57]] \n",
    "        y_data = int(data[57]) \n",
    "        dataset.append((x_data, y_data))\n",
    "\n",
    "    X = np.array([x for x, y in dataset])\n",
    "    Y = np.array([y for x, y in dataset])\n",
    "    Y = np.where(Y == 0, -1, Y) #replace 0 with -1\n",
    "\n",
    "    return X, Y\n",
    "\n",
    "#training model for the train_data and get an optimal w and b\n",
    "def train(c): \n",
    "    train_X, train_Y = read_data(\"spam_data/spam_train.data\")\n",
    "\n",
    "    num_of_data, num_of_features = train_X.shape\n",
    "\n",
    "    #P matrix (identity matrix of w's, 0 for b and slack)\n",
    "    P_matrix = np.identity(num_of_features) #identity matrix\n",
    "    P_matrix = np.pad(P_matrix, ((0, 2), (0, 0)), mode='constant', constant_values=0) #add 2 new rows of 0's to the end\n",
    "    P_matrix = np.pad(P_matrix, ((0, 0), (0, 2)), mode='constant', constant_values=0) #add 2 new cols of 0's to the end \n",
    "\n",
    "    #q vector (0's for w's and b, c for slack)\n",
    "    q_vector = np.zeros(num_of_features+1) #col of 0's\n",
    "    q_vector = np.append(q_vector, c) #add c value \n",
    "\n",
    "    #G matrix \n",
    "    train_Y = train_Y.reshape(train_Y.shape[0],1) \n",
    "    G_matrix = -np.multiply(train_Y, train_X) #-yixi\n",
    "    bcol = np.array([-y for y in train_Y]) #-yi\n",
    "    G_matrix = np.hstack((G_matrix, bcol)) #add bcol to G matrix\n",
    "    G_matrix = np.pad(G_matrix, ((0, num_of_data), (0, 0)), mode='constant', constant_values=0) #add 3000 new rows of 0's to the end (for second equality)\n",
    "    scol = -np.ones(num_of_data*2).reshape(num_of_data*2, 1) #col of slack variable (-1)\n",
    "    G_matrix = np.hstack((G_matrix, scol)) #add bcol to G matrix\n",
    "\n",
    "    #h vector\n",
    "    h_vector = -np.ones(num_of_data) #col of -1's\n",
    "    new_col = np.zeros(num_of_data) #col of 0's\n",
    "    h_vector = np.append(h_vector, new_col)\n",
    "\n",
    "    P = cvxopt.matrix(P_matrix)\n",
    "    q = cvxopt.matrix(q_vector)\n",
    "    G = cvxopt.matrix(G_matrix)\n",
    "    h = cvxopt.matrix(h_vector) \n",
    "\n",
    "    cvxopt.solvers.options['show_progress'] = False #disable progess to console \n",
    "    sol = cvxopt.solvers.qp(P, q, G, h) \n",
    "    sol_arr = np.array(sol['x'])\n",
    "\n",
    "    w = sol_arr[:num_of_features]\n",
    "    b = sol_arr[num_of_features]\n",
    "\n",
    "    return w, b\n",
    "\n",
    "\n",
    "#main(): \n",
    "X, Y = read_data(\"spam_data/spam_test.data\")\n",
    "C = [0.001, 0.01, 0.1, 1, 10, 100, 1000]\n",
    "\n",
    "#compute accuracy for each c value \n",
    "for c in C: \n",
    "    w, b = train(c)\n",
    "    correct_predictions = 0\n",
    "    total_data = X.shape[0]\n",
    "\n",
    "    for x, y in zip(X, Y):\n",
    "        result = y * (np.dot(w.reshape(1, w.shape[0]),x) + b)\n",
    "        if (result > 0): #correct classification \n",
    "            correct_predictions += 1\n",
    "    \n",
    "    accuracy = (correct_predictions / total_data) * 100\n",
    "    print(\"c:\", c)\n",
    "    print(\"accuracy:\", accuracy, \"%\")"
   ]
  }
 ],
 "metadata": {
  "kernelspec": {
   "display_name": "Python 3",
   "language": "python",
   "name": "python3"
  },
  "language_info": {
   "codemirror_mode": {
    "name": "ipython",
    "version": 3
   },
   "file_extension": ".py",
   "mimetype": "text/x-python",
   "name": "python",
   "nbconvert_exporter": "python",
   "pygments_lexer": "ipython3",
   "version": "3.11.4"
  },
  "orig_nbformat": 4
 },
 "nbformat": 4,
 "nbformat_minor": 2
}
